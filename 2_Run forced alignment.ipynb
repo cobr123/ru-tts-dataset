{
 "cells": [
  {
   "cell_type": "code",
   "execution_count": 6,
   "metadata": {
    "collapsed": true
   },
   "outputs": [],
   "source": [
    "#!/usr/bin/env python\n",
    "# coding=utf-8\n",
    "\n",
    "from aeneas.executetask import ExecuteTask\n",
    "from aeneas.task import Task"
   ]
  },
  {
   "cell_type": "code",
   "execution_count": 7,
   "metadata": {},
   "outputs": [],
   "source": [
    "# create Task object\n",
    "config_string = u\"task_language=ru|is_text_type=plain|os_task_file_format=json\"\n",
    "task = Task(config_string=config_string)\n",
    "task.audio_file_path_absolute = \"../book/01.wav\"\n",
    "task.text_file_path_absolute = \"../book/aeneas_data/01.txt\"\n",
    "task.sync_map_file_path_absolute = \"../book/01_output/syncmap.json\""
   ]
  },
  {
   "cell_type": "code",
   "execution_count": 8,
   "metadata": {},
   "outputs": [
    {
     "data": {
      "text/plain": [
       "'../book/01_output/syncmap.json'"
      ]
     },
     "execution_count": 8,
     "metadata": {},
     "output_type": "execute_result"
    }
   ],
   "source": [
    "# process Task\n",
    "ExecuteTask(task).execute()\n",
    "\n",
    "# output sync map to file\n",
    "task.output_sync_map_file()"
   ]
  },
  {
   "cell_type": "code",
   "execution_count": null,
   "metadata": {
    "collapsed": true
   },
   "outputs": [],
   "source": []
  }
 ],
 "metadata": {
  "kernelspec": {
   "display_name": "Python 3",
   "language": "python",
   "name": "python3"
  },
  "language_info": {
   "codemirror_mode": {
    "name": "ipython",
    "version": 3
   },
   "file_extension": ".py",
   "mimetype": "text/x-python",
   "name": "python",
   "nbconvert_exporter": "python",
   "pygments_lexer": "ipython3",
   "version": "3.6.1"
  }
 },
 "nbformat": 4,
 "nbformat_minor": 2
}
