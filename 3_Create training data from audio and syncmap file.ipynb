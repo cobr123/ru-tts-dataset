{
 "cells": [
  {
   "cell_type": "code",
   "execution_count": 289,
   "metadata": {},
   "outputs": [],
   "source": [
    "from pydub import AudioSegment\n",
    "import pandas as pd\n",
    "import json\n",
    "import os"
   ]
  },
  {
   "cell_type": "code",
   "execution_count": 290,
   "metadata": {
    "collapsed": true
   },
   "outputs": [],
   "source": [
    "book = AudioSegment.from_wav(\"../book/01.wav\")\n",
    "\n",
    "with open(\"../book/01_output/tuned (13).json\") as f: \n",
    "    syncmap = json.loads(f.read())\n"
   ]
  },
  {
   "cell_type": "code",
   "execution_count": 291,
   "metadata": {},
   "outputs": [],
   "source": [
    "#syncmap"
   ]
  },
  {
   "cell_type": "code",
   "execution_count": 292,
   "metadata": {},
   "outputs": [],
   "source": [
    "sentences = []\n",
    "for fragment in syncmap['fragments']:\n",
    "    begin = float(fragment['begin']) * 1000\n",
    "    end = float(fragment['end']) * 1000\n",
    "    fragment_len = end - begin\n",
    "    if fragment_len > 100:\n",
    "        sentences.append({\"audio\":book[begin:end], \"text\":fragment['lines'][0]})"
   ]
  },
  {
   "cell_type": "code",
   "execution_count": 293,
   "metadata": {},
   "outputs": [
    {
     "data": {
      "text/plain": [
       "59"
      ]
     },
     "execution_count": 293,
     "metadata": {},
     "output_type": "execute_result"
    }
   ],
   "source": [
    "len(sentences)"
   ]
  },
  {
   "cell_type": "code",
   "execution_count": 294,
   "metadata": {
    "collapsed": true
   },
   "outputs": [],
   "source": [
    "# save to pandas \n",
    "df = pd.DataFrame(columns=['filename','text','normalized_text'])\n",
    "\n",
    "if not os.path.exists(\"../book/LJSpeech-1.1\"):\n",
    "    os.makedirs(\"../book/LJSpeech-1.1\")\n",
    "if not os.path.exists(\"../book/LJSpeech-1.1/wavs\"):\n",
    "    os.makedirs(\"../book/LJSpeech-1.1/wavs\")"
   ]
  },
  {
   "cell_type": "code",
   "execution_count": 295,
   "metadata": {},
   "outputs": [],
   "source": [
    "# export audio segment\n",
    "for idx, sentence in enumerate(sentences):\n",
    "    text = sentence['text'].lower()\n",
    "    sentence['audio'].export(\"../book/LJSpeech-1.1/wavs/01_sample_\"+str(idx+1)+\".wav\", format=\"wav\")\n",
    "    temp_df = pd.DataFrame([{'filename':\"01_sample_\"+str(idx+1),'text':text,'normalized_text':text}])\n",
    "    df = df.append(temp_df)"
   ]
  },
  {
   "cell_type": "code",
   "execution_count": 296,
   "metadata": {
    "collapsed": true
   },
   "outputs": [],
   "source": [
    "# export to LJSpeech csv format\n",
    "df.to_csv(\"../book/LJSpeech-1.1/metadata.csv\", sep='|', index=False, header=False)"
   ]
  },
  {
   "cell_type": "code",
   "execution_count": 297,
   "metadata": {},
   "outputs": [],
   "source": [
    "#df.reset_index().head()"
   ]
  },
  {
   "cell_type": "code",
   "execution_count": null,
   "metadata": {
    "collapsed": true
   },
   "outputs": [],
   "source": []
  }
 ],
 "metadata": {
  "kernelspec": {
   "display_name": "Python 3",
   "language": "python",
   "name": "python3"
  },
  "language_info": {
   "codemirror_mode": {
    "name": "ipython",
    "version": 3
   },
   "file_extension": ".py",
   "mimetype": "text/x-python",
   "name": "python",
   "nbconvert_exporter": "python",
   "pygments_lexer": "ipython3",
   "version": "3.6.1"
  }
 },
 "nbformat": 4,
 "nbformat_minor": 2
}
